{
 "cells": [
  {
   "cell_type": "markdown",
   "id": "14ff4c1d",
   "metadata": {},
   "source": [
    "# 📊 Mini-Projet IA : Prédiction du Revenu Annuel des Marocains\n",
    "\n",
    "<div style=\"background-color:#e8f4fc; padding:15px; border-radius:10px; border-left:5px solid #3498db;\">\n",
    "<strong style=\"color:#2c3e50;\">🎯 Objectif :</strong> Construire un pipeline complet de Machine Learning pour prédire le revenu annuel des Marocains à partir de données simulées réalistes.\n",
    "</div>\n",
    "\n",
    "<div style=\"margin-top:20px; background-color:#f9f9f9; padding:10px; border-radius:5px;\">\n",
    "<strong>👤 Auteur :</strong> [Votre Nom]<br>\n",
    "<strong>📅 Date :</strong> Mai 2025<br>\n",
    "<strong>🏫 Formation :</strong> 2ème année Cycle d'ingénieurs - GI<br>\n",
    "<strong>🧠 Matière :</strong> Intelligence Artificielle<br>\n",
    "<strong>👨‍🏫 Encadrant :</strong> Y. EL YOUNOUSSI\n",
    "</div>"
   ]
  },
  {
   "cell_type": "markdown",
   "id": "c6f3d05b",
   "metadata": {},
   "source": [
    "## 📚 Table des Matières\n",
    "\n",
    "1. [🔧 Installation des Dépendances](#1)\n",
    "2. [📥 Chargement des Données](#2)\n",
    "3. [🔍 Exploration des Données](#3)\n",
    "4. [🧹 Nettoyage des Données](#4)\n",
    "5. [🔄 Transformation des Données](#5)\n",
    "6. [🤖 Modélisation](#6)\n",
    "7. [📊 Évaluation des Modèles](#7)\n",
    "8. [🚀 Déploiement](#8)\n",
    "9. [✅ Conclusion](#9)"
   ]
  },
  {
   "cell_type": "markdown",
   "id": "4f475cc9",
   "metadata": {},
   "source": [
    "<a id=\"1\"></a>\n",
    "## 🔧 1. Installation des Dépendances\n",
    "\n",
    "<div style=\"background-color:#f0f7f4; padding:15px; border-radius:10px;\">\n",
    "<strong>📦 Packages requis :</strong> Toutes les librairies nécessaires pour le projet\n",
    "</div>"
   ]
  },
  {
   "cell_type": "code",
   "execution_count": 37,
   "id": "6a4e922c",
   "metadata": {},
   "outputs": [
    {
     "name": "stdout",
     "output_type": "stream",
     "text": [
      "Requirement already satisfied: numpy in c:\\users\\pc\\mini_projet_ia\\venv\\lib\\site-packages (2.1.3)\n",
      "Requirement already satisfied: pandas in c:\\users\\pc\\mini_projet_ia\\venv\\lib\\site-packages (2.2.3)\n",
      "Requirement already satisfied: matplotlib in c:\\users\\pc\\mini_projet_ia\\venv\\lib\\site-packages (3.10.0)\n",
      "Requirement already satisfied: seaborn in c:\\users\\pc\\mini_projet_ia\\venv\\lib\\site-packages (0.13.2)\n",
      "Requirement already satisfied: sweetviz in c:\\users\\pc\\mini_projet_ia\\venv\\lib\\site-packages (2.3.1)\n",
      "Requirement already satisfied: scikit-learn in c:\\users\\pc\\mini_projet_ia\\venv\\lib\\site-packages (1.6.1)\n",
      "Requirement already satisfied: joblib in c:\\users\\pc\\mini_projet_ia\\venv\\lib\\site-packages (1.4.2)\n",
      "Requirement already satisfied: streamlit in c:\\users\\pc\\mini_projet_ia\\venv\\lib\\site-packages (1.44.1)\n",
      "Requirement already satisfied: fastapi in c:\\users\\pc\\mini_projet_ia\\venv\\lib\\site-packages (0.115.12)\n",
      "Requirement already satisfied: uvicorn in c:\\users\\pc\\mini_projet_ia\\venv\\lib\\site-packages (0.34.2)\n",
      "Requirement already satisfied: python-dateutil>=2.8.2 in c:\\users\\pc\\mini_projet_ia\\venv\\lib\\site-packages (from pandas) (2.9.0.post0)\n",
      "Requirement already satisfied: pytz>=2020.1 in c:\\users\\pc\\mini_projet_ia\\venv\\lib\\site-packages (from pandas) (2025.2)\n",
      "Requirement already satisfied: tzdata>=2022.7 in c:\\users\\pc\\mini_projet_ia\\venv\\lib\\site-packages (from pandas) (2025.2)\n",
      "Requirement already satisfied: contourpy>=1.0.1 in c:\\users\\pc\\mini_projet_ia\\venv\\lib\\site-packages (from matplotlib) (1.3.2)\n",
      "Requirement already satisfied: cycler>=0.10 in c:\\users\\pc\\mini_projet_ia\\venv\\lib\\site-packages (from matplotlib) (0.12.1)\n",
      "Requirement already satisfied: fonttools>=4.22.0 in c:\\users\\pc\\mini_projet_ia\\venv\\lib\\site-packages (from matplotlib) (4.57.0)\n",
      "Requirement already satisfied: kiwisolver>=1.3.1 in c:\\users\\pc\\mini_projet_ia\\venv\\lib\\site-packages (from matplotlib) (1.4.8)\n",
      "Requirement already satisfied: packaging>=20.0 in c:\\users\\pc\\mini_projet_ia\\venv\\lib\\site-packages (from matplotlib) (24.2)\n",
      "Requirement already satisfied: pillow>=8 in c:\\users\\pc\\mini_projet_ia\\venv\\lib\\site-packages (from matplotlib) (11.2.1)\n",
      "Requirement already satisfied: pyparsing>=2.3.1 in c:\\users\\pc\\mini_projet_ia\\venv\\lib\\site-packages (from matplotlib) (3.2.3)\n",
      "Requirement already satisfied: tqdm>=4.43.0 in c:\\users\\pc\\mini_projet_ia\\venv\\lib\\site-packages (from sweetviz) (4.67.1)\n",
      "Requirement already satisfied: scipy>=1.3.2 in c:\\users\\pc\\mini_projet_ia\\venv\\lib\\site-packages (from sweetviz) (1.15.2)\n",
      "Requirement already satisfied: jinja2>=2.11.1 in c:\\users\\pc\\mini_projet_ia\\venv\\lib\\site-packages (from sweetviz) (3.1.6)\n",
      "Requirement already satisfied: importlib-resources>=1.2.0 in c:\\users\\pc\\mini_projet_ia\\venv\\lib\\site-packages (from sweetviz) (6.5.2)\n",
      "Requirement already satisfied: threadpoolctl>=3.1.0 in c:\\users\\pc\\mini_projet_ia\\venv\\lib\\site-packages (from scikit-learn) (3.6.0)\n",
      "Requirement already satisfied: altair<6,>=4.0 in c:\\users\\pc\\mini_projet_ia\\venv\\lib\\site-packages (from streamlit) (5.5.0)\n",
      "Requirement already satisfied: blinker<2,>=1.0.0 in c:\\users\\pc\\mini_projet_ia\\venv\\lib\\site-packages (from streamlit) (1.9.0)\n",
      "Requirement already satisfied: cachetools<6,>=4.0 in c:\\users\\pc\\mini_projet_ia\\venv\\lib\\site-packages (from streamlit) (5.5.2)\n",
      "Requirement already satisfied: click<9,>=7.0 in c:\\users\\pc\\mini_projet_ia\\venv\\lib\\site-packages (from streamlit) (8.1.8)\n",
      "Requirement already satisfied: protobuf<6,>=3.20 in c:\\users\\pc\\mini_projet_ia\\venv\\lib\\site-packages (from streamlit) (5.29.4)\n",
      "Requirement already satisfied: pyarrow>=7.0 in c:\\users\\pc\\mini_projet_ia\\venv\\lib\\site-packages (from streamlit) (20.0.0)\n",
      "Requirement already satisfied: requests<3,>=2.27 in c:\\users\\pc\\mini_projet_ia\\venv\\lib\\site-packages (from streamlit) (2.32.3)\n",
      "Requirement already satisfied: tenacity<10,>=8.1.0 in c:\\users\\pc\\mini_projet_ia\\venv\\lib\\site-packages (from streamlit) (9.1.2)\n",
      "Requirement already satisfied: toml<2,>=0.10.1 in c:\\users\\pc\\mini_projet_ia\\venv\\lib\\site-packages (from streamlit) (0.10.2)\n",
      "Requirement already satisfied: typing-extensions<5,>=4.4.0 in c:\\users\\pc\\mini_projet_ia\\venv\\lib\\site-packages (from streamlit) (4.13.2)\n",
      "Requirement already satisfied: watchdog<7,>=2.1.5 in c:\\users\\pc\\mini_projet_ia\\venv\\lib\\site-packages (from streamlit) (6.0.0)\n",
      "Requirement already satisfied: gitpython!=3.1.19,<4,>=3.0.7 in c:\\users\\pc\\mini_projet_ia\\venv\\lib\\site-packages (from streamlit) (3.1.44)\n",
      "Requirement already satisfied: pydeck<1,>=0.8.0b4 in c:\\users\\pc\\mini_projet_ia\\venv\\lib\\site-packages (from streamlit) (0.9.1)\n",
      "Requirement already satisfied: tornado<7,>=6.0.3 in c:\\users\\pc\\mini_projet_ia\\venv\\lib\\site-packages (from streamlit) (6.4.2)\n",
      "Requirement already satisfied: jsonschema>=3.0 in c:\\users\\pc\\mini_projet_ia\\venv\\lib\\site-packages (from altair<6,>=4.0->streamlit) (4.23.0)\n",
      "Requirement already satisfied: narwhals>=1.14.2 in c:\\users\\pc\\mini_projet_ia\\venv\\lib\\site-packages (from altair<6,>=4.0->streamlit) (1.37.0)\n",
      "Requirement already satisfied: colorama in c:\\users\\pc\\mini_projet_ia\\venv\\lib\\site-packages (from click<9,>=7.0->streamlit) (0.4.6)\n",
      "Requirement already satisfied: gitdb<5,>=4.0.1 in c:\\users\\pc\\mini_projet_ia\\venv\\lib\\site-packages (from gitpython!=3.1.19,<4,>=3.0.7->streamlit) (4.0.12)\n",
      "Requirement already satisfied: smmap<6,>=3.0.1 in c:\\users\\pc\\mini_projet_ia\\venv\\lib\\site-packages (from gitdb<5,>=4.0.1->gitpython!=3.1.19,<4,>=3.0.7->streamlit) (5.0.2)\n",
      "Requirement already satisfied: charset-normalizer<4,>=2 in c:\\users\\pc\\mini_projet_ia\\venv\\lib\\site-packages (from requests<3,>=2.27->streamlit) (3.4.1)\n",
      "Requirement already satisfied: idna<4,>=2.5 in c:\\users\\pc\\mini_projet_ia\\venv\\lib\\site-packages (from requests<3,>=2.27->streamlit) (3.10)\n",
      "Requirement already satisfied: urllib3<3,>=1.21.1 in c:\\users\\pc\\mini_projet_ia\\venv\\lib\\site-packages (from requests<3,>=2.27->streamlit) (2.4.0)\n",
      "Requirement already satisfied: certifi>=2017.4.17 in c:\\users\\pc\\mini_projet_ia\\venv\\lib\\site-packages (from requests<3,>=2.27->streamlit) (2025.4.26)\n",
      "Requirement already satisfied: starlette<0.47.0,>=0.40.0 in c:\\users\\pc\\mini_projet_ia\\venv\\lib\\site-packages (from fastapi) (0.46.2)\n",
      "Requirement already satisfied: pydantic!=1.8,!=1.8.1,!=2.0.0,!=2.0.1,!=2.1.0,<3.0.0,>=1.7.4 in c:\\users\\pc\\mini_projet_ia\\venv\\lib\\site-packages (from fastapi) (2.11.3)\n",
      "Requirement already satisfied: annotated-types>=0.6.0 in c:\\users\\pc\\mini_projet_ia\\venv\\lib\\site-packages (from pydantic!=1.8,!=1.8.1,!=2.0.0,!=2.0.1,!=2.1.0,<3.0.0,>=1.7.4->fastapi) (0.7.0)\n",
      "Requirement already satisfied: pydantic-core==2.33.1 in c:\\users\\pc\\mini_projet_ia\\venv\\lib\\site-packages (from pydantic!=1.8,!=1.8.1,!=2.0.0,!=2.0.1,!=2.1.0,<3.0.0,>=1.7.4->fastapi) (2.33.1)\n",
      "Requirement already satisfied: typing-inspection>=0.4.0 in c:\\users\\pc\\mini_projet_ia\\venv\\lib\\site-packages (from pydantic!=1.8,!=1.8.1,!=2.0.0,!=2.0.1,!=2.1.0,<3.0.0,>=1.7.4->fastapi) (0.4.0)\n",
      "Requirement already satisfied: anyio<5,>=3.6.2 in c:\\users\\pc\\mini_projet_ia\\venv\\lib\\site-packages (from starlette<0.47.0,>=0.40.0->fastapi) (4.9.0)\n",
      "Requirement already satisfied: sniffio>=1.1 in c:\\users\\pc\\mini_projet_ia\\venv\\lib\\site-packages (from anyio<5,>=3.6.2->starlette<0.47.0,>=0.40.0->fastapi) (1.3.1)\n",
      "Requirement already satisfied: h11>=0.8 in c:\\users\\pc\\mini_projet_ia\\venv\\lib\\site-packages (from uvicorn) (0.16.0)\n",
      "Requirement already satisfied: MarkupSafe>=2.0 in c:\\users\\pc\\mini_projet_ia\\venv\\lib\\site-packages (from jinja2>=2.11.1->sweetviz) (3.0.2)\n",
      "Requirement already satisfied: attrs>=22.2.0 in c:\\users\\pc\\mini_projet_ia\\venv\\lib\\site-packages (from jsonschema>=3.0->altair<6,>=4.0->streamlit) (25.3.0)\n",
      "Requirement already satisfied: jsonschema-specifications>=2023.03.6 in c:\\users\\pc\\mini_projet_ia\\venv\\lib\\site-packages (from jsonschema>=3.0->altair<6,>=4.0->streamlit) (2025.4.1)\n",
      "Requirement already satisfied: referencing>=0.28.4 in c:\\users\\pc\\mini_projet_ia\\venv\\lib\\site-packages (from jsonschema>=3.0->altair<6,>=4.0->streamlit) (0.36.2)\n",
      "Requirement already satisfied: rpds-py>=0.7.1 in c:\\users\\pc\\mini_projet_ia\\venv\\lib\\site-packages (from jsonschema>=3.0->altair<6,>=4.0->streamlit) (0.24.0)\n",
      "Requirement already satisfied: six>=1.5 in c:\\users\\pc\\mini_projet_ia\\venv\\lib\\site-packages (from python-dateutil>=2.8.2->pandas) (1.17.0)\n",
      "Note: you may need to restart the kernel to use updated packages.\n",
      "✅ Librairies installées et importées avec succès, style appliqué !\n"
     ]
    },
    {
     "name": "stderr",
     "output_type": "stream",
     "text": [
      "\n",
      "[notice] A new release of pip is available: 25.1 -> 25.1.1\n",
      "[notice] To update, run: python.exe -m pip install --upgrade pip\n"
     ]
    }
   ],
   "source": [
    "# Installation des librairies (à exécuter une seule fois dans VS Code avec Jupyter)\n",
    "%pip install numpy pandas matplotlib seaborn sweetviz scikit-learn joblib streamlit fastapi uvicorn\n",
    "\n",
    "# Importations\n",
    "import numpy as np\n",
    "import pandas as pd\n",
    "import matplotlib.pyplot as plt\n",
    "import seaborn as sns\n",
    "import sweetviz as sv\n",
    "from sklearn.model_selection import train_test_split, GridSearchCV, RandomizedSearchCV\n",
    "from sklearn.preprocessing import StandardScaler, OneHotEncoder\n",
    "from sklearn.compose import ColumnTransformer\n",
    "from sklearn.pipeline import make_pipeline\n",
    "from sklearn.impute import SimpleImputer\n",
    "from sklearn.linear_model import LinearRegression\n",
    "from sklearn.tree import DecisionTreeRegressor\n",
    "from sklearn.ensemble import RandomForestRegressor, GradientBoostingRegressor\n",
    "from sklearn.neural_network import MLPRegressor\n",
    "from sklearn.metrics import mean_absolute_error, mean_squared_error, r2_score\n",
    "import joblib\n",
    "import warnings\n",
    "warnings.filterwarnings('ignore')\n",
    "\n",
    "# ✅ Configuration visuelle professionnelle\n",
    "sns.set_theme(style=\"whitegrid\", palette=\"husl\")  # Style clair et coloré\n",
    "plt.rcParams[\"figure.figsize\"] = (10, 6)          # Taille des figures par défaut\n",
    "pd.set_option('display.max_columns', None)        # Affiche toutes les colonnes d'un DataFrame\n",
    "\n",
    "print(\"✅ Librairies installées et importées avec succès, style appliqué !\")\n"
   ]
  },
  {
   "cell_type": "markdown",
   "id": "dabc8721",
   "metadata": {},
   "source": [
    "<a id=\"2\"></a>\n",
    "## 📥 2. Chargement des Données\n",
    "\n",
    "<div style=\"background-color:#f0f7f4; padding:15px; border-radius:10px;\">\n",
    "<strong>📂 Fichier :</strong> dataset_revenu_marocains.csv (40,000 enregistrements)\n",
    "</div>"
   ]
  },
  {
   "cell_type": "code",
   "execution_count": 38,
   "id": "6c66368d",
   "metadata": {},
   "outputs": [
    {
     "name": "stdout",
     "output_type": "stream",
     "text": [
      "🎉 Données chargées avec succès!\n"
     ]
    },
    {
     "data": {
      "text/html": [
       "<style type=\"text/css\">\n",
       "#T_7133a caption {\n",
       "  font-size: 16px;\n",
       "  font-weight: bold;\n",
       "}\n",
       "</style>\n",
       "<table id=\"T_7133a\">\n",
       "  <caption>🔍 Aperçu des données</caption>\n",
       "  <thead>\n",
       "    <tr>\n",
       "      <th class=\"blank level0\" >&nbsp;</th>\n",
       "      <th id=\"T_7133a_level0_col0\" class=\"col_heading level0 col0\" >milieu</th>\n",
       "      <th id=\"T_7133a_level0_col1\" class=\"col_heading level0 col1\" >sexe</th>\n",
       "      <th id=\"T_7133a_level0_col2\" class=\"col_heading level0 col2\" >age</th>\n",
       "      <th id=\"T_7133a_level0_col3\" class=\"col_heading level0 col3\" >categorie_age</th>\n",
       "      <th id=\"T_7133a_level0_col4\" class=\"col_heading level0 col4\" >etat_matrimonial</th>\n",
       "      <th id=\"T_7133a_level0_col5\" class=\"col_heading level0 col5\" >niveau_education</th>\n",
       "      <th id=\"T_7133a_level0_col6\" class=\"col_heading level0 col6\" >annees_experience</th>\n",
       "      <th id=\"T_7133a_level0_col7\" class=\"col_heading level0 col7\" >categorie_sociopro</th>\n",
       "      <th id=\"T_7133a_level0_col8\" class=\"col_heading level0 col8\" >possession_voiture</th>\n",
       "      <th id=\"T_7133a_level0_col9\" class=\"col_heading level0 col9\" >possession_logement</th>\n",
       "      <th id=\"T_7133a_level0_col10\" class=\"col_heading level0 col10\" >possession_terrain</th>\n",
       "      <th id=\"T_7133a_level0_col11\" class=\"col_heading level0 col11\" >possession_investissements</th>\n",
       "      <th id=\"T_7133a_level0_col12\" class=\"col_heading level0 col12\" >niveau_endettement</th>\n",
       "      <th id=\"T_7133a_level0_col13\" class=\"col_heading level0 col13\" >nb_personnes_charge</th>\n",
       "      <th id=\"T_7133a_level0_col14\" class=\"col_heading level0 col14\" >secteur_activite</th>\n",
       "      <th id=\"T_7133a_level0_col15\" class=\"col_heading level0 col15\" >revenu_annuel</th>\n",
       "      <th id=\"T_7133a_level0_col16\" class=\"col_heading level0 col16\" >age_groupe</th>\n",
       "      <th id=\"T_7133a_level0_col17\" class=\"col_heading level0 col17\" >revenu_normalise</th>\n",
       "      <th id=\"T_7133a_level0_col18\" class=\"col_heading level0 col18\" >statut_socioeconomique</th>\n",
       "      <th id=\"T_7133a_level0_col19\" class=\"col_heading level0 col19\" >id_personne</th>\n",
       "      <th id=\"T_7133a_level0_col20\" class=\"col_heading level0 col20\" >date_maj</th>\n",
       "      <th id=\"T_7133a_level0_col21\" class=\"col_heading level0 col21\" >code_postal</th>\n",
       "    </tr>\n",
       "  </thead>\n",
       "  <tbody>\n",
       "    <tr>\n",
       "      <th id=\"T_7133a_level0_row0\" class=\"row_heading level0 row0\" >0</th>\n",
       "      <td id=\"T_7133a_row0_col0\" class=\"data row0 col0\" >urbain</td>\n",
       "      <td id=\"T_7133a_row0_col1\" class=\"data row0 col1\" >homme</td>\n",
       "      <td id=\"T_7133a_row0_col2\" class=\"data row0 col2\" >25</td>\n",
       "      <td id=\"T_7133a_row0_col3\" class=\"data row0 col3\" >jeune</td>\n",
       "      <td id=\"T_7133a_row0_col4\" class=\"data row0 col4\" >marie</td>\n",
       "      <td id=\"T_7133a_row0_col5\" class=\"data row0 col5\" >secondaire</td>\n",
       "      <td id=\"T_7133a_row0_col6\" class=\"data row0 col6\" >4.000000</td>\n",
       "      <td id=\"T_7133a_row0_col7\" class=\"data row0 col7\" >groupe_2</td>\n",
       "      <td id=\"T_7133a_row0_col8\" class=\"data row0 col8\" >1</td>\n",
       "      <td id=\"T_7133a_row0_col9\" class=\"data row0 col9\" >1</td>\n",
       "      <td id=\"T_7133a_row0_col10\" class=\"data row0 col10\" >0</td>\n",
       "      <td id=\"T_7133a_row0_col11\" class=\"data row0 col11\" >0</td>\n",
       "      <td id=\"T_7133a_row0_col12\" class=\"data row0 col12\" >43.340000</td>\n",
       "      <td id=\"T_7133a_row0_col13\" class=\"data row0 col13\" >0.000000</td>\n",
       "      <td id=\"T_7133a_row0_col14\" class=\"data row0 col14\" >autre</td>\n",
       "      <td id=\"T_7133a_row0_col15\" class=\"data row0 col15\" >155936.600000</td>\n",
       "      <td id=\"T_7133a_row0_col16\" class=\"data row0 col16\" >18-25</td>\n",
       "      <td id=\"T_7133a_row0_col17\" class=\"data row0 col17\" >0.040695</td>\n",
       "      <td id=\"T_7133a_row0_col18\" class=\"data row0 col18\" >eleve</td>\n",
       "      <td id=\"T_7133a_row0_col19\" class=\"data row0 col19\" >20026</td>\n",
       "      <td id=\"T_7133a_row0_col20\" class=\"data row0 col20\" >2024-07-14</td>\n",
       "      <td id=\"T_7133a_row0_col21\" class=\"data row0 col21\" >60000</td>\n",
       "    </tr>\n",
       "    <tr>\n",
       "      <th id=\"T_7133a_level0_row1\" class=\"row_heading level0 row1\" >1</th>\n",
       "      <td id=\"T_7133a_row1_col0\" class=\"data row1 col0\" >rural</td>\n",
       "      <td id=\"T_7133a_row1_col1\" class=\"data row1 col1\" >homme</td>\n",
       "      <td id=\"T_7133a_row1_col2\" class=\"data row1 col2\" >34</td>\n",
       "      <td id=\"T_7133a_row1_col3\" class=\"data row1 col3\" >adulte</td>\n",
       "      <td id=\"T_7133a_row1_col4\" class=\"data row1 col4\" >marie</td>\n",
       "      <td id=\"T_7133a_row1_col5\" class=\"data row1 col5\" >secondaire</td>\n",
       "      <td id=\"T_7133a_row1_col6\" class=\"data row1 col6\" >12.000000</td>\n",
       "      <td id=\"T_7133a_row1_col7\" class=\"data row1 col7\" >groupe_5</td>\n",
       "      <td id=\"T_7133a_row1_col8\" class=\"data row1 col8\" >0</td>\n",
       "      <td id=\"T_7133a_row1_col9\" class=\"data row1 col9\" >1</td>\n",
       "      <td id=\"T_7133a_row1_col10\" class=\"data row1 col10\" >0</td>\n",
       "      <td id=\"T_7133a_row1_col11\" class=\"data row1 col11\" >0</td>\n",
       "      <td id=\"T_7133a_row1_col12\" class=\"data row1 col12\" >28.000000</td>\n",
       "      <td id=\"T_7133a_row1_col13\" class=\"data row1 col13\" >1.000000</td>\n",
       "      <td id=\"T_7133a_row1_col14\" class=\"data row1 col14\" >agriculture</td>\n",
       "      <td id=\"T_7133a_row1_col15\" class=\"data row1 col15\" >23636.340000</td>\n",
       "      <td id=\"T_7133a_row1_col16\" class=\"data row1 col16\" >26-35</td>\n",
       "      <td id=\"T_7133a_row1_col17\" class=\"data row1 col17\" >0.014470</td>\n",
       "      <td id=\"T_7133a_row1_col18\" class=\"data row1 col18\" >moyen</td>\n",
       "      <td id=\"T_7133a_row1_col19\" class=\"data row1 col19\" >51065</td>\n",
       "      <td id=\"T_7133a_row1_col20\" class=\"data row1 col20\" >2024-12-16</td>\n",
       "      <td id=\"T_7133a_row1_col21\" class=\"data row1 col21\" >80000</td>\n",
       "    </tr>\n",
       "    <tr>\n",
       "      <th id=\"T_7133a_level0_row2\" class=\"row_heading level0 row2\" >2</th>\n",
       "      <td id=\"T_7133a_row2_col0\" class=\"data row2 col0\" >rural</td>\n",
       "      <td id=\"T_7133a_row2_col1\" class=\"data row2 col1\" >homme</td>\n",
       "      <td id=\"T_7133a_row2_col2\" class=\"data row2 col2\" >26</td>\n",
       "      <td id=\"T_7133a_row2_col3\" class=\"data row2 col3\" >jeune</td>\n",
       "      <td id=\"T_7133a_row2_col4\" class=\"data row2 col4\" >marie</td>\n",
       "      <td id=\"T_7133a_row2_col5\" class=\"data row2 col5\" >fondamental</td>\n",
       "      <td id=\"T_7133a_row2_col6\" class=\"data row2 col6\" >6.000000</td>\n",
       "      <td id=\"T_7133a_row2_col7\" class=\"data row2 col7\" >groupe_3</td>\n",
       "      <td id=\"T_7133a_row2_col8\" class=\"data row2 col8\" >0</td>\n",
       "      <td id=\"T_7133a_row2_col9\" class=\"data row2 col9\" >0</td>\n",
       "      <td id=\"T_7133a_row2_col10\" class=\"data row2 col10\" >0</td>\n",
       "      <td id=\"T_7133a_row2_col11\" class=\"data row2 col11\" >1</td>\n",
       "      <td id=\"T_7133a_row2_col12\" class=\"data row2 col12\" >20.280000</td>\n",
       "      <td id=\"T_7133a_row2_col13\" class=\"data row2 col13\" >0.000000</td>\n",
       "      <td id=\"T_7133a_row2_col14\" class=\"data row2 col14\" >education</td>\n",
       "      <td id=\"T_7133a_row2_col15\" class=\"data row2 col15\" >36060.100000</td>\n",
       "      <td id=\"T_7133a_row2_col16\" class=\"data row2 col16\" >26-35</td>\n",
       "      <td id=\"T_7133a_row2_col17\" class=\"data row2 col17\" >0.016933</td>\n",
       "      <td id=\"T_7133a_row2_col18\" class=\"data row2 col18\" >moyen</td>\n",
       "      <td id=\"T_7133a_row2_col19\" class=\"data row2 col19\" >36952</td>\n",
       "      <td id=\"T_7133a_row2_col20\" class=\"data row2 col20\" >2024-12-17</td>\n",
       "      <td id=\"T_7133a_row2_col21\" class=\"data row2 col21\" >30000</td>\n",
       "    </tr>\n",
       "  </tbody>\n",
       "</table>\n"
      ],
      "text/plain": [
       "<pandas.io.formats.style.Styler at 0x1415fb13920>"
      ]
     },
     "metadata": {},
     "output_type": "display_data"
    },
    {
     "name": "stdout",
     "output_type": "stream",
     "text": [
      "\n",
      "📊 Métadonnées:\n",
      "• 📝 Enregistrements: 40,000\n",
      "• 🔢 Variables: 22\n",
      "\n",
      "🔠 Types de variables:\n",
      "<pandas.io.formats.style.Styler object at 0x000001415E8D5880>\n"
     ]
    }
   ],
   "source": [
    "# Chargement des données\n",
    "try:\n",
    "    df = pd.read_csv('dataset_revenu_marocains.csv')\n",
    "    print(\"🎉 Données chargées avec succès!\")\n",
    "    \n",
    "    # Aperçu\n",
    "    display(df.head(3).style.set_caption(\"🔍 Aperçu des données\").set_table_styles([\n",
    "        {'selector': 'caption', 'props': [('font-size', '16px'), ('font-weight', 'bold')]}\n",
    "    ]))\n",
    "    \n",
    "    # Statistiques\n",
    "    print(\"\\n📊 Métadonnées:\")\n",
    "    print(f\"• 📝 Enregistrements: {df.shape[0]:,}\")\n",
    "    print(f\"• 🔢 Variables: {df.shape[1]}\")\n",
    "    print(\"\\n🔠 Types de variables:\")\n",
    "    print(df.dtypes.value_counts().to_frame('Count').style.background_gradient(cmap='Blues'))\n",
    "    \n",
    "except Exception as e:\n",
    "    print(f\"❌ Erreur lors du chargement: {e}\")\n",
    "    "
   ]
  },
  {
   "cell_type": "markdown",
   "id": "04c4dd49",
   "metadata": {},
   "source": [
    "<a id=\"3\"></a>\n",
    "## 🔍 3. Exploration des Données\n",
    "\n",
    "<div style=\"background-color:#fff8e6; padding:15px; border-radius:10px;\">\n",
    "<strong>🔎 Objectif :</strong> Comprendre la distribution et les relations entre les variables\n",
    "</div>"
   ]
  },
  {
   "cell_type": "markdown",
   "id": "1c72a87f",
   "metadata": {},
   "source": [
    "## 🧹 Correction des Valeurs Manquantes - Solution Professionnelle\n",
    "\n",
    "<div style=\"background-color:#fff3e0; padding:15px; border-radius:10px; border-left:4px solid #ffa000;\">\n",
    "<strong>🛠 Problème identifié :</strong> La colonne cible 'revenu_annuel' contient des valeurs manquantes<br>\n",
    "<strong>🔧 Solution :</strong> Nettoyage rigoureux des données avant analyse\n",
    "</div>"
   ]
  },
  {
   "cell_type": "code",
   "execution_count": 39,
   "id": "1bd73b39",
   "metadata": {},
   "outputs": [
    {
     "name": "stdout",
     "output_type": "stream",
     "text": [
      "🔍 Vérification des valeurs manquantes:\n",
      "Nombre total de valeurs manquantes dans 'revenu_annuel': 4899\n",
      "Pourcentage des valeurs manquantes: 12.25%\n",
      "\n",
      "📌 Stratégie recommandée :\n",
      "1. Suppression des lignes avec revenu manquant (si <5% des données)\n",
      "2. OU imputation par la médiane/mean groupée par caractéristiques clés\n",
      "3. Vérification post-traitement\n",
      "\n"
     ]
    }
   ],
   "source": [
    "# Vérification initiale\n",
    "print(\"🔍 Vérification des valeurs manquantes:\")\n",
    "print(f\"Nombre total de valeurs manquantes dans 'revenu_annuel': {df['revenu_annuel'].isnull().sum()}\")\n",
    "print(f\"Pourcentage des valeurs manquantes: {df['revenu_annuel'].isnull().mean()*100:.2f}%\")\n",
    "\n",
    "# Stratégie de traitement\n",
    "treatment_strategy = \"\"\"\n",
    "📌 Stratégie recommandée :\n",
    "1. Suppression des lignes avec revenu manquant (si <5% des données)\n",
    "2. OU imputation par la médiane/mean groupée par caractéristiques clés\n",
    "3. Vérification post-traitement\n",
    "\"\"\"\n",
    "\n",
    "print(treatment_strategy)"
   ]
  },
  {
   "cell_type": "code",
   "execution_count": 40,
   "id": "caed2657",
   "metadata": {},
   "outputs": [
    {
     "name": "stdout",
     "output_type": "stream",
     "text": [
      "⚠️ 69 valeurs restantes - Utilisation de la médiane globale\n",
      "✅ Imputation par médiane groupée effectuée\n",
      "\n",
      "🔎 Vérification post-traitement:\n",
      "Valeurs manquantes restantes: 0\n"
     ]
    }
   ],
   "source": [
    "# Méthode 1: Suppression simple (si peu de valeurs manquantes)\n",
    "if df['revenu_annuel'].isnull().mean() < 0.05:  # Moins de 5% de valeurs manquantes\n",
    "    df_clean = df.dropna(subset=['revenu_annuel'])\n",
    "    print(f\"✅ {len(df) - len(df_clean)} lignes supprimées (méthode conservative)\")\n",
    "else:\n",
    "    # Méthode 2: Imputation sophistiquée\n",
    "    medians = df.groupby(['milieu', 'niveau_education', 'categorie_sociopro'])['revenu_annuel'].transform('median')\n",
    "    df['revenu_annuel'] = df['revenu_annuel'].fillna(medians)\n",
    "    \n",
    "    # Vérification des valeurs restantes\n",
    "    remaining_nulls = df['revenu_annuel'].isnull().sum()\n",
    "    if remaining_nulls > 0:\n",
    "        global_median = df['revenu_annuel'].median()\n",
    "        df['revenu_annuel'] = df['revenu_annuel'].fillna(global_median)\n",
    "        print(f\"⚠️ {remaining_nulls} valeurs restantes - Utilisation de la médiane globale\")\n",
    "    \n",
    "    df_clean = df.copy()\n",
    "    print(\"✅ Imputation par médiane groupée effectuée\")\n",
    "\n",
    "# Vérification finale\n",
    "print(\"\\n🔎 Vérification post-traitement:\")\n",
    "print(f\"Valeurs manquantes restantes: {df_clean['revenu_annuel'].isnull().sum()}\")"
   ]
  },
  {
   "cell_type": "code",
   "execution_count": 41,
   "id": "45339538",
   "metadata": {},
   "outputs": [
    {
     "data": {
      "application/vnd.jupyter.widget-view+json": {
       "model_id": "478c0a25d567470ab1a9f154207cec58",
       "version_major": 2,
       "version_minor": 0
      },
      "text/plain": [
       "                                             |          | [  0%]   00:00 -> (? left)"
      ]
     },
     "metadata": {},
     "output_type": "display_data"
    },
    {
     "name": "stdout",
     "output_type": "stream",
     "text": [
      "\n",
      "❌ Échec de l'analyse Sweetviz: module 'numpy' has no attribute 'VisibleDeprecationWarning'\n",
      "Solution alternative: Analyse avec Pandas Profiling (version light)\n"
     ]
    },
    {
     "data": {
      "application/vnd.jupyter.widget-view+json": {
       "model_id": "aab8d756e973484b94413e97b56b0f69",
       "version_major": 2,
       "version_minor": 0
      },
      "text/plain": [
       "Summarize dataset:   0%|          | 0/5 [00:00<?, ?it/s]"
      ]
     },
     "metadata": {},
     "output_type": "display_data"
    },
    {
     "name": "stderr",
     "output_type": "stream",
     "text": [
      "100%|██████████| 22/22 [00:00<00:00, 44.86it/s] \n"
     ]
    },
    {
     "data": {
      "application/vnd.jupyter.widget-view+json": {
       "model_id": "6924ac1fdb0742c5b11baf55d1394438",
       "version_major": 2,
       "version_minor": 0
      },
      "text/plain": [
       "Generate report structure:   0%|          | 0/1 [00:00<?, ?it/s]"
      ]
     },
     "metadata": {},
     "output_type": "display_data"
    },
    {
     "data": {
      "application/vnd.jupyter.widget-view+json": {
       "model_id": "aef88d15b6ad4a54b258a2b889155654",
       "version_major": 2,
       "version_minor": 0
      },
      "text/plain": [
       "Render HTML:   0%|          | 0/1 [00:00<?, ?it/s]"
      ]
     },
     "metadata": {},
     "output_type": "display_data"
    },
    {
     "data": {
      "application/vnd.jupyter.widget-view+json": {
       "model_id": "f4b2ddc27a674ba0836bf29bc4859a24",
       "version_major": 2,
       "version_minor": 0
      },
      "text/plain": [
       "Export report to file:   0%|          | 0/1 [00:00<?, ?it/s]"
      ]
     },
     "metadata": {},
     "output_type": "display_data"
    },
    {
     "name": "stdout",
     "output_type": "stream",
     "text": [
      "✅ Rapport Pandas Profiling généré: 'pandas_profiling_report.html'\n"
     ]
    },
    {
     "data": {
      "image/png": "[encoded data removed]",
      "text/plain": [
       "<Figure size 290x120 with 1 Axes>"
      ]
     },
     "metadata": {},
     "output_type": "display_data"
    }
   ],
   "source": [
    "# Ré-exécution de l'analyse Sweetviz en version robuste\n",
    "try:\n",
    "    # Configuration optimisée pour grands datasets\n",
    "    report = sv.analyze(\n",
    "        df_clean.sample(n=min(5000, len(df_clean))) if len(df_clean) > 10000 else df_clean,\n",
    "        target_feat='revenu_annuel',\n",
    "        pairwise_analysis='off'  # Désactive les corrélations pour accélérer\n",
    "    )\n",
    "    \n",
    "    # Sauvegarde du rapport\n",
    "    if os.path.exists('sweetviz_report.html'):\n",
    "        os.remove('sweetviz_report.html')\n",
    "        \n",
    "    report.show_html('sweetviz_report.html', open_browser=False)\n",
    "    print(\"\\n📊 Rapport Sweetviz généré avec succès!\")\n",
    "    print(\"🔗 Ouvrez 'sweetviz_report.html' dans votre navigateur\")\n",
    "\n",
    "except Exception as e:\n",
    "    print(f\"\\n❌ Échec de l'analyse Sweetviz: {str(e)}\")\n",
    "    print(\"Solution alternative: Analyse avec Pandas Profiling (version light)\")\n",
    "    \n",
    "    from ydata_profiling import ProfileReport\n",
    "    profile = ProfileReport(\n",
    "        df_clean,\n",
    "        minimal=True,\n",
    "        title=\"Profiling Report Light\",\n",
    "        correlations={\"pearson\": {\"calculate\": False}}\n",
    "    )\n",
    "    profile.to_file(\"pandas_profiling_report.html\")\n",
    "    print(\"✅ Rapport Pandas Profiling généré: 'pandas_profiling_report.html'\")"
   ]
  },
  {
   "cell_type": "markdown",
   "id": "90251d4a",
   "metadata": {},
   "source": [
    "<a id=\"4\"></a>\n",
    "## 🧹 4. Nettoyage des Données\n",
    "\n",
    "<div style=\"background-color:#ffebee; padding:15px; border-radius:10px;\">\n",
    "<strong>🧼 Actions :</strong> Gestion des valeurs manquantes, suppression des doublons, traitement des outliers\n",
    "</div>"
   ]
  },
  {
   "cell_type": "code",
   "execution_count": 42,
   "id": "a1e518c1",
   "metadata": {},
   "outputs": [
    {
     "name": "stdout",
     "output_type": "stream",
     "text": [
      "🧹 Étape 1: Suppression des doublons\n",
      "• 0 doublons supprimés\n",
      "\n",
      "🔍 Étape 2: Valeurs manquantes\n"
     ]
    },
    {
     "data": {
      "text/html": [
       "<style type=\"text/css\">\n",
       "#T_7d2ab_row0_col0, #T_7d2ab_row1_col0, #T_7d2ab_row6_col0 {\n",
       "  background-color: #ffeee7;\n",
       "  color: #000000;\n",
       "}\n",
       "#T_7d2ab_row2_col0 {\n",
       "  background-color: #ffeee6;\n",
       "  color: #000000;\n",
       "}\n",
       "#T_7d2ab_row3_col0, #T_7d2ab_row4_col0 {\n",
       "  background-color: #ffefe8;\n",
       "  color: #000000;\n",
       "}\n",
       "#T_7d2ab_row5_col0 {\n",
       "  background-color: #fff0e8;\n",
       "  color: #000000;\n",
       "}\n",
       "#T_7d2ab_row7_col0 {\n",
       "  background-color: #fff5f0;\n",
       "  color: #000000;\n",
       "}\n",
       "#T_7d2ab_row8_col0 {\n",
       "  background-color: #67000d;\n",
       "  color: #f1f1f1;\n",
       "}\n",
       "</style>\n",
       "<table id=\"T_7d2ab\">\n",
       "  <thead>\n",
       "    <tr>\n",
       "      <th class=\"blank level0\" >&nbsp;</th>\n",
       "      <th id=\"T_7d2ab_level0_col0\" class=\"col_heading level0 col0\" >Valeurs manquantes</th>\n",
       "    </tr>\n",
       "  </thead>\n",
       "  <tbody>\n",
       "    <tr>\n",
       "      <th id=\"T_7d2ab_level0_row0\" class=\"row_heading level0 row0\" >etat_matrimonial</th>\n",
       "      <td id=\"T_7d2ab_row0_col0\" class=\"data row0 col0\" >292</td>\n",
       "    </tr>\n",
       "    <tr>\n",
       "      <th id=\"T_7d2ab_level0_row1\" class=\"row_heading level0 row1\" >niveau_education</th>\n",
       "      <td id=\"T_7d2ab_row1_col0\" class=\"data row1 col0\" >293</td>\n",
       "    </tr>\n",
       "    <tr>\n",
       "      <th id=\"T_7d2ab_level0_row2\" class=\"row_heading level0 row2\" >annees_experience</th>\n",
       "      <td id=\"T_7d2ab_row2_col0\" class=\"data row2 col0\" >316</td>\n",
       "    </tr>\n",
       "    <tr>\n",
       "      <th id=\"T_7d2ab_level0_row3\" class=\"row_heading level0 row3\" >categorie_sociopro</th>\n",
       "      <td id=\"T_7d2ab_row3_col0\" class=\"data row3 col0\" >270</td>\n",
       "    </tr>\n",
       "    <tr>\n",
       "      <th id=\"T_7d2ab_level0_row4\" class=\"row_heading level0 row4\" >niveau_endettement</th>\n",
       "      <td id=\"T_7d2ab_row4_col0\" class=\"data row4 col0\" >279</td>\n",
       "    </tr>\n",
       "    <tr>\n",
       "      <th id=\"T_7d2ab_level0_row5\" class=\"row_heading level0 row5\" >nb_personnes_charge</th>\n",
       "      <td id=\"T_7d2ab_row5_col0\" class=\"data row5 col0\" >248</td>\n",
       "    </tr>\n",
       "    <tr>\n",
       "      <th id=\"T_7d2ab_level0_row6\" class=\"row_heading level0 row6\" >secteur_activite</th>\n",
       "      <td id=\"T_7d2ab_row6_col0\" class=\"data row6 col0\" >300</td>\n",
       "    </tr>\n",
       "    <tr>\n",
       "      <th id=\"T_7d2ab_level0_row7\" class=\"row_heading level0 row7\" >age_groupe</th>\n",
       "      <td id=\"T_7d2ab_row7_col0\" class=\"data row7 col0\" >94</td>\n",
       "    </tr>\n",
       "    <tr>\n",
       "      <th id=\"T_7d2ab_level0_row8\" class=\"row_heading level0 row8\" >revenu_normalise</th>\n",
       "      <td id=\"T_7d2ab_row8_col0\" class=\"data row8 col0\" >4899</td>\n",
       "    </tr>\n",
       "  </tbody>\n",
       "</table>\n"
      ],
      "text/plain": [
       "<pandas.io.formats.style.Styler at 0x1415608c1a0>"
      ]
     },
     "metadata": {},
     "output_type": "display_data"
    },
    {
     "name": "stdout",
     "output_type": "stream",
     "text": [
      "\n",
      "✅ Nettoyage terminé!\n"
     ]
    }
   ],
   "source": [
    "# Nettoyage\n",
    "print(\"🧹 Étape 1: Suppression des doublons\")\n",
    "initial_count = len(df)\n",
    "df = df.drop_duplicates()\n",
    "print(f\"• {initial_count - len(df)} doublons supprimés\")\n",
    "\n",
    "print(\"\\n🔍 Étape 2: Valeurs manquantes\")\n",
    "missing = df.isna().sum()[df.isna().sum() > 0]\n",
    "display(missing.to_frame('Valeurs manquantes').style.background_gradient(cmap='Reds'))\n",
    "\n",
    "# Imputation\n",
    "df['niveau_education'] = df['niveau_education'].fillna('sans_niveau')\n",
    "df['annees_experience'] = df['annees_experience'].fillna(df.groupby('age')['annees_experience'].transform('median'))\n",
    "\n",
    "print(\"\\n✅ Nettoyage terminé!\")"
   ]
  },
  {
   "cell_type": "markdown",
   "id": "04750030",
   "metadata": {},
   "source": [
    "<a id=\"5\"></a>\n",
    "## 🔄 5. Transformation des Données\n",
    "\n",
    "<div style=\"background-color:#e8f5e9; padding:15px; border-radius:10px;\">\n",
    "<strong>🛠️ Préparation :</strong> Feature engineering, encodage et normalisation\n",
    "</div>"
   ]
  },
  {
   "cell_type": "code",
   "execution_count": 43,
   "id": "00b4e69a",
   "metadata": {},
   "outputs": [
    {
     "name": "stdout",
     "output_type": "stream",
     "text": [
      "✅ Features transformées avec succès!\n"
     ]
    }
   ],
   "source": [
    "# Feature Engineering\n",
    "df['experience_squared'] = df['annees_experience'] ** 2\n",
    "df['possession_score'] = (df['possession_voiture'] + \n",
    "                         df['possession_logement'] * 2 + \n",
    "                         df['possession_terrain'] * 1.5)\n",
    "\n",
    "# Sélection des features\n",
    "features = ['age', 'annees_experience', 'niveau_education', \n",
    "           'categorie_sociopro', 'possession_score', 'milieu']\n",
    "target = 'revenu_annuel'\n",
    "\n",
    "# Pipeline\n",
    "numeric_features = ['age', 'annees_experience', 'possession_score']\n",
    "categorical_features = ['niveau_education', 'categorie_sociopro', 'milieu']\n",
    "\n",
    "preprocessor = ColumnTransformer([\n",
    "    ('num', StandardScaler(), numeric_features),\n",
    "    ('cat', OneHotEncoder(handle_unknown='ignore'), categorical_features)\n",
    "])\n",
    "\n",
    "print(\"✅ Features transformées avec succès!\")"
   ]
  },
  {
   "cell_type": "markdown",
   "id": "6711a2f0",
   "metadata": {},
   "source": [
    "<a id=\"6\"></a>\n",
    "## 🤖 6. Modélisation\n",
    "\n",
    "<div style=\"background-color:#e3f2fd; padding:15px; border-radius:10px;\">\n",
    "<strong>🧠 Algorithmes :</strong> 5 modèles de régression comparés\n",
    "</div>"
   ]
  },
  {
   "cell_type": "code",
   "execution_count": 44,
   "id": "e3a3b887",
   "metadata": {},
   "outputs": [],
   "source": [
    "# %%\n",
    "# Fonction d'évaluation\n",
    "def evaluate_model(model, X_test, y_test, model_name):\n",
    "    y_pred = model.predict(X_test)\n",
    "    \n",
    "    metrics = {\n",
    "        'MAE': mean_absolute_error(y_test, y_pred),\n",
    "        'RMSE': np.sqrt(mean_squared_error(y_test, y_pred)),\n",
    "        'R2': r2_score(y_test, y_pred)\n",
    "    }\n",
    "    \n",
    "    # Affichage stylisé\n",
    "    print(f\"\\n📊 Performance du modèle {model_name}:\")\n",
    "    display(pd.DataFrame([metrics], index=[model_name]).style\\\n",
    "        .background_gradient(cmap='YlGnBu', axis=1)\\\n",
    "        .set_caption(f\"Résultats pour {model_name}\"))\n",
    "    \n",
    "    return metrics"
   ]
  },
  {
   "cell_type": "markdown",
   "id": "a51496fd",
   "metadata": {},
   "source": [
    "## 🧩 Correction du Problème de Données Non Définies\n",
    "\n",
    "<div style=\"background-color:#fff3e0; padding:15px; border-radius:10px; border-left:4px solid #ffa000;\">\n",
    "<strong>🔍 Problème identifié :</strong> Variables X_train/y_train non définies<br>\n",
    "<strong>🛠 Solution :</strong> Séparation correcte des données avant modélisation\n",
    "</div>"
   ]
  },
  {
   "cell_type": "code",
   "execution_count": 45,
   "id": "42e7e4d3",
   "metadata": {},
   "outputs": [
    {
     "name": "stdout",
     "output_type": "stream",
     "text": [
      "✅ Colonnes disponibles dans df_clean:\n",
      "['milieu', 'sexe', 'age', 'categorie_age', 'etat_matrimonial', 'niveau_education', 'annees_experience', 'categorie_sociopro', 'possession_voiture', 'possession_logement', 'possession_terrain', 'possession_investissements', 'niveau_endettement', 'nb_personnes_charge', 'secteur_activite', 'revenu_annuel', 'age_groupe', 'revenu_normalise', 'statut_socioeconomique', 'id_personne', 'date_maj', 'code_postal']\n",
      "\n",
      "📊 Répartition des données:\n",
      "- Train set: 28000 échantillons\n",
      "- Test set: 12000 échantillons\n",
      "- Proportion cible (train): 102729.57 DH\n",
      "- Proportion cible (test): 100594.18 DH\n"
     ]
    }
   ],
   "source": [
    "# Étape 1: Vérification des données sources\n",
    "print(\"✅ Colonnes disponibles dans df_clean:\")\n",
    "print(df_clean.columns.tolist())\n",
    "\n",
    "# Vérification et création de la colonne 'possession_score' si elle n'existe pas\n",
    "if 'possession_score' not in df_clean.columns:\n",
    "    df_clean['possession_score'] = (df_clean['possession_voiture'] + \n",
    "                                    df_clean['possession_logement'] * 2 + \n",
    "                                    df_clean['possession_terrain'] * 1.5)\n",
    "\n",
    "# Étape 2: Sélection des features et target\n",
    "features = ['age', 'annees_experience', 'niveau_education', \n",
    "           'categorie_sociopro', 'possession_score', 'milieu']\n",
    "target = 'revenu_annuel'\n",
    "\n",
    "if target not in df_clean.columns:\n",
    "    raise ValueError(f\"La colonne cible '{target}' est introuvable\")\n",
    "\n",
    "X = df_clean[features]\n",
    "y = df_clean[target]\n",
    "\n",
    "# Étape 3: Séparation train/test avec stratification\n",
    "from sklearn.model_selection import train_test_split\n",
    "\n",
    "X_train, X_test, y_train, y_test = train_test_split(\n",
    "    X, y, \n",
    "    test_size=0.3, \n",
    "    random_state=42,\n",
    "    stratify=df_clean['milieu']  # Conservation des proportions urbain/rural\n",
    ")\n",
    "\n",
    "print(f\"\\n📊 Répartition des données:\")\n",
    "print(f\"- Train set: {X_train.shape[0]} échantillons\")\n",
    "print(f\"- Test set: {X_test.shape[0]} échantillons\")\n",
    "print(f\"- Proportion cible (train): {y_train.mean():.2f} DH\")\n",
    "print(f\"- Proportion cible (test): {y_test.mean():.2f} DH\")"
   ]
  },
  {
   "cell_type": "code",
   "execution_count": 46,
   "id": "56979ee4",
   "metadata": {},
   "outputs": [
    {
     "name": "stdout",
     "output_type": "stream",
     "text": [
      "\n",
      "🔍 Vérification qualité données Train:\n",
      "- Shape: (28000, 6)\n",
      "- Valeurs manquantes: 0\n",
      "- Types: \n",
      "object     3\n",
      "float64    2\n",
      "int64      1\n",
      "Name: count, dtype: int64\n",
      "- Target stats: Moyenne=102729.57, Médiane=55416.15\n",
      "\n",
      "🔍 Vérification qualité données Test:\n",
      "- Shape: (12000, 6)\n",
      "- Valeurs manquantes: 0\n",
      "- Types: \n",
      "object     3\n",
      "float64    2\n",
      "int64      1\n",
      "Name: count, dtype: int64\n",
      "- Target stats: Moyenne=100594.18, Médiane=55636.88\n"
     ]
    }
   ],
   "source": [
    "# Étape 4: Vérification des données avant modélisation\n",
    "\n",
    "def check_data_quality(X, y, name=\"\"):\n",
    "    \"\"\"Vérification complète des données d'entrée\"\"\"\n",
    "    print(f\"\\n🔍 Vérification qualité données {name}:\")\n",
    "    print(f\"- Shape: {X.shape}\")\n",
    "    print(f\"- Valeurs manquantes: {X.isnull().sum().sum()}\")\n",
    "    print(f\"- Types: \\n{X.dtypes.value_counts()}\")\n",
    "    print(f\"- Target stats: Moyenne={y.mean():.2f}, Médiane={y.median():.2f}\")\n",
    "    \n",
    "    if X.isnull().any().any() or y.isnull().any():\n",
    "        raise ValueError(\"Données manquantes détectées!\")\n",
    "\n",
    "# Gestion des valeurs manquantes dans X_train et X_test\n",
    "for col in X_train.columns:\n",
    "    if X_train[col].dtype in ['float64', 'int64']:  # For numeric columns\n",
    "        X_train[col] = X_train[col].fillna(X_train[col].median())\n",
    "        X_test[col] = X_test[col].fillna(X_test[col].median())\n",
    "    else:  # For categorical columns\n",
    "        X_train[col] = X_train[col].fillna(X_train[col].mode()[0])\n",
    "        X_test[col] = X_test[col].fillna(X_test[col].mode()[0])\n",
    "\n",
    "# Gestion des valeurs manquantes dans y_train et y_test\n",
    "y_train = y_train.fillna(y_train.median());\n",
    "y_test = y_test.fillna(y_test.median());\n",
    "\n",
    "# Vérification de la qualité des données après traitement des valeurs manquantes\n",
    "check_data_quality(X_train, y_train, \"Train\");\n",
    "check_data_quality(X_test, y_test, \"Test\");"
   ]
  },
  {
   "cell_type": "code",
   "execution_count": 47,
   "id": "df026b98",
   "metadata": {},
   "outputs": [
    {
     "name": "stdout",
     "output_type": "stream",
     "text": [
      "\n",
      "✅ Préprocesseur redéfini avec:\n",
      "ColumnTransformer(transformers=[('num',\n",
      "                                 Pipeline(steps=[('imputer',\n",
      "                                                  SimpleImputer(strategy='median')),\n",
      "                                                 ('scaler', StandardScaler())]),\n",
      "                                 ['age', 'annees_experience',\n",
      "                                  'possession_score']),\n",
      "                                ('cat',\n",
      "                                 Pipeline(steps=[('imputer',\n",
      "                                                  SimpleImputer(strategy='most_frequent')),\n",
      "                                                 ('encoder',\n",
      "                                                  OneHotEncoder(handle_unknown='ignore'))]),\n",
      "                                 ['niveau_education', 'categorie_sociopro',\n",
      "                                  'milieu'])])\n"
     ]
    }
   ],
   "source": [
    "# Étape 5: Redéfinition du préprocesseur (version robuste)\n",
    "from sklearn.pipeline import Pipeline\n",
    "from sklearn.impute import SimpleImputer\n",
    "\n",
    "numeric_features = ['age', 'annees_experience', 'possession_score']\n",
    "categorical_features = ['niveau_education', 'categorie_sociopro', 'milieu']\n",
    "\n",
    "preprocessor = ColumnTransformer([\n",
    "    ('num', Pipeline([\n",
    "        ('imputer', SimpleImputer(strategy='median')),\n",
    "        ('scaler', StandardScaler())\n",
    "    ]), numeric_features),\n",
    "    ('cat', Pipeline([\n",
    "        ('imputer', SimpleImputer(strategy='most_frequent')),\n",
    "        ('encoder', OneHotEncoder(handle_unknown='ignore'))\n",
    "    ]), categorical_features)\n",
    "])\n",
    "\n",
    "print(\"\\n✅ Préprocesseur redéfini avec:\")\n",
    "print(preprocessor)"
   ]
  },
  {
   "cell_type": "code",
   "execution_count": 48,
   "id": "50f9e09a",
   "metadata": {},
   "outputs": [
    {
     "name": "stdout",
     "output_type": "stream",
     "text": [
      "\n",
      "🏗 Entraînement du modèle: Régression Linéaire\n",
      "\n",
      "📊 Performance du modèle Régression Linéaire:\n"
     ]
    },
    {
     "data": {
      "text/html": [
       "<style type=\"text/css\">\n",
       "#T_5a127_row0_col0 {\n",
       "  background-color: #c2e7b4;\n",
       "  color: #000000;\n",
       "}\n",
       "#T_5a127_row0_col1 {\n",
       "  background-color: #081d58;\n",
       "  color: #f1f1f1;\n",
       "}\n",
       "#T_5a127_row0_col2 {\n",
       "  background-color: #ffffd9;\n",
       "  color: #000000;\n",
       "}\n",
       "</style>\n",
       "<table id=\"T_5a127\">\n",
       "  <caption>Résultats pour Régression Linéaire</caption>\n",
       "  <thead>\n",
       "    <tr>\n",
       "      <th class=\"blank level0\" >&nbsp;</th>\n",
       "      <th id=\"T_5a127_level0_col0\" class=\"col_heading level0 col0\" >MAE</th>\n",
       "      <th id=\"T_5a127_level0_col1\" class=\"col_heading level0 col1\" >RMSE</th>\n",
       "      <th id=\"T_5a127_level0_col2\" class=\"col_heading level0 col2\" >R2</th>\n",
       "    </tr>\n",
       "  </thead>\n",
       "  <tbody>\n",
       "    <tr>\n",
       "      <th id=\"T_5a127_level0_row0\" class=\"row_heading level0 row0\" >Régression Linéaire</th>\n",
       "      <td id=\"T_5a127_row0_col0\" class=\"data row0 col0\" >57947.153194</td>\n",
       "      <td id=\"T_5a127_row0_col1\" class=\"data row0 col1\" >221551.638797</td>\n",
       "      <td id=\"T_5a127_row0_col2\" class=\"data row0 col2\" >0.198391</td>\n",
       "    </tr>\n",
       "  </tbody>\n",
       "</table>\n"
      ],
      "text/plain": [
       "<pandas.io.formats.style.Styler at 0x141610e9d00>"
      ]
     },
     "metadata": {},
     "output_type": "display_data"
    },
    {
     "name": "stdout",
     "output_type": "stream",
     "text": [
      "\n",
      "🏗 Entraînement du modèle: Arbre de Décision\n",
      "\n",
      "📊 Performance du modèle Arbre de Décision:\n"
     ]
    },
    {
     "data": {
      "text/html": [
       "<style type=\"text/css\">\n",
       "#T_780a2_row0_col0 {\n",
       "  background-color: #dbf1b2;\n",
       "  color: #000000;\n",
       "}\n",
       "#T_780a2_row0_col1 {\n",
       "  background-color: #081d58;\n",
       "  color: #f1f1f1;\n",
       "}\n",
       "#T_780a2_row0_col2 {\n",
       "  background-color: #ffffd9;\n",
       "  color: #000000;\n",
       "}\n",
       "</style>\n",
       "<table id=\"T_780a2\">\n",
       "  <caption>Résultats pour Arbre de Décision</caption>\n",
       "  <thead>\n",
       "    <tr>\n",
       "      <th class=\"blank level0\" >&nbsp;</th>\n",
       "      <th id=\"T_780a2_level0_col0\" class=\"col_heading level0 col0\" >MAE</th>\n",
       "      <th id=\"T_780a2_level0_col1\" class=\"col_heading level0 col1\" >RMSE</th>\n",
       "      <th id=\"T_780a2_level0_col2\" class=\"col_heading level0 col2\" >R2</th>\n",
       "    </tr>\n",
       "  </thead>\n",
       "  <tbody>\n",
       "    <tr>\n",
       "      <th id=\"T_780a2_level0_row0\" class=\"row_heading level0 row0\" >Arbre de Décision</th>\n",
       "      <td id=\"T_780a2_row0_col0\" class=\"data row0 col0\" >25853.671876</td>\n",
       "      <td id=\"T_780a2_row0_col1\" class=\"data row0 col1\" >138621.918994</td>\n",
       "      <td id=\"T_780a2_row0_col2\" class=\"data row0 col2\" >0.686183</td>\n",
       "    </tr>\n",
       "  </tbody>\n",
       "</table>\n"
      ],
      "text/plain": [
       "<pandas.io.formats.style.Styler at 0x141610e9d00>"
      ]
     },
     "metadata": {},
     "output_type": "display_data"
    },
    {
     "name": "stdout",
     "output_type": "stream",
     "text": [
      "\n",
      "🏗 Entraînement du modèle: Forêt Aléatoire\n",
      "\n",
      "📊 Performance du modèle Forêt Aléatoire:\n"
     ]
    },
    {
     "data": {
      "text/html": [
       "<style type=\"text/css\">\n",
       "#T_a7d4f_row0_col0 {\n",
       "  background-color: #d6efb3;\n",
       "  color: #000000;\n",
       "}\n",
       "#T_a7d4f_row0_col1 {\n",
       "  background-color: #081d58;\n",
       "  color: #f1f1f1;\n",
       "}\n",
       "#T_a7d4f_row0_col2 {\n",
       "  background-color: #ffffd9;\n",
       "  color: #000000;\n",
       "}\n",
       "</style>\n",
       "<table id=\"T_a7d4f\">\n",
       "  <caption>Résultats pour Forêt Aléatoire</caption>\n",
       "  <thead>\n",
       "    <tr>\n",
       "      <th class=\"blank level0\" >&nbsp;</th>\n",
       "      <th id=\"T_a7d4f_level0_col0\" class=\"col_heading level0 col0\" >MAE</th>\n",
       "      <th id=\"T_a7d4f_level0_col1\" class=\"col_heading level0 col1\" >RMSE</th>\n",
       "      <th id=\"T_a7d4f_level0_col2\" class=\"col_heading level0 col2\" >R2</th>\n",
       "    </tr>\n",
       "  </thead>\n",
       "  <tbody>\n",
       "    <tr>\n",
       "      <th id=\"T_a7d4f_level0_row0\" class=\"row_heading level0 row0\" >Forêt Aléatoire</th>\n",
       "      <td id=\"T_a7d4f_row0_col0\" class=\"data row0 col0\" >23875.599531</td>\n",
       "      <td id=\"T_a7d4f_row0_col1\" class=\"data row0 col1\" >117794.752022</td>\n",
       "      <td id=\"T_a7d4f_row0_col2\" class=\"data row0 col2\" >0.773398</td>\n",
       "    </tr>\n",
       "  </tbody>\n",
       "</table>\n"
      ],
      "text/plain": [
       "<pandas.io.formats.style.Styler at 0x141632dac60>"
      ]
     },
     "metadata": {},
     "output_type": "display_data"
    },
    {
     "name": "stdout",
     "output_type": "stream",
     "text": [
      "\n",
      "🏗 Entraînement du modèle: Gradient Boosting\n",
      "\n",
      "📊 Performance du modèle Gradient Boosting:\n"
     ]
    },
    {
     "data": {
      "text/html": [
       "<style type=\"text/css\">\n",
       "#T_8662c_row0_col0 {\n",
       "  background-color: #d3eeb3;\n",
       "  color: #000000;\n",
       "}\n",
       "#T_8662c_row0_col1 {\n",
       "  background-color: #081d58;\n",
       "  color: #f1f1f1;\n",
       "}\n",
       "#T_8662c_row0_col2 {\n",
       "  background-color: #ffffd9;\n",
       "  color: #000000;\n",
       "}\n",
       "</style>\n",
       "<table id=\"T_8662c\">\n",
       "  <caption>Résultats pour Gradient Boosting</caption>\n",
       "  <thead>\n",
       "    <tr>\n",
       "      <th class=\"blank level0\" >&nbsp;</th>\n",
       "      <th id=\"T_8662c_level0_col0\" class=\"col_heading level0 col0\" >MAE</th>\n",
       "      <th id=\"T_8662c_level0_col1\" class=\"col_heading level0 col1\" >RMSE</th>\n",
       "      <th id=\"T_8662c_level0_col2\" class=\"col_heading level0 col2\" >R2</th>\n",
       "    </tr>\n",
       "  </thead>\n",
       "  <tbody>\n",
       "    <tr>\n",
       "      <th id=\"T_8662c_level0_row0\" class=\"row_heading level0 row0\" >Gradient Boosting</th>\n",
       "      <td id=\"T_8662c_row0_col0\" class=\"data row0 col0\" >21843.129157</td>\n",
       "      <td id=\"T_8662c_row0_col1\" class=\"data row0 col1\" >101961.743085</td>\n",
       "      <td id=\"T_8662c_row0_col2\" class=\"data row0 col2\" >0.830220</td>\n",
       "    </tr>\n",
       "  </tbody>\n",
       "</table>\n"
      ],
      "text/plain": [
       "<pandas.io.formats.style.Styler at 0x1415fa6f770>"
      ]
     },
     "metadata": {},
     "output_type": "display_data"
    },
    {
     "name": "stdout",
     "output_type": "stream",
     "text": [
      "\n",
      "🏗 Entraînement du modèle: Réseau de Neurones\n",
      "❌ Erreur avec Réseau de Neurones: underflow encountered in divide\n"
     ]
    }
   ],
   "source": [
    "# Étape 6: Ré-exécution de la modélisation\n",
    "models = {\n",
    "    'Régression Linéaire': LinearRegression(),\n",
    "    'Arbre de Décision': DecisionTreeRegressor(random_state=42),\n",
    "    'Forêt Aléatoire': RandomForestRegressor(random_state=42),\n",
    "    'Gradient Boosting': GradientBoostingRegressor(random_state=42),\n",
    "    'Réseau de Neurones': MLPRegressor(random_state=42, max_iter=500)\n",
    "}\n",
    "\n",
    "results = {}\n",
    "for name, model in models.items():\n",
    "    try:\n",
    "        print(f\"\\n🏗 Entraînement du modèle: {name}\")\n",
    "        pipeline = Pipeline([\n",
    "            ('preprocessor', preprocessor),\n",
    "            ('model', model)\n",
    "        ])\n",
    "        \n",
    "        pipeline.fit(X_train, y_train)\n",
    "        results[name] = evaluate_model(pipeline, X_test, y_test, name)\n",
    "        \n",
    "    except Exception as e:\n",
    "        print(f\"❌ Erreur avec {name}: {str(e)}\")\n",
    "        results[name] = {'MAE': None, 'RMSE': None, 'R2': None}"
   ]
  },
  {
   "cell_type": "markdown",
   "id": "d80f97ab",
   "metadata": {},
   "source": [
    "<a id=\"7\"></a>\n",
    "## 📊 7. Évaluation des Modèles\n",
    "\n",
    "<div style=\"background-color:#f3e5f5; padding:15px; border-radius:10px;\">\n",
    "<strong>🏆 Comparaison :</strong> Sélection du meilleur modèle basé sur les métriques\n",
    "</div>"
   ]
  },
  {
   "cell_type": "code",
   "execution_count": 51,
   "id": "d57537ee",
   "metadata": {},
   "outputs": [
    {
     "name": "stdout",
     "output_type": "stream",
     "text": [
      "\n",
      "🔎 Comparaison des Performances des Modèles:\n"
     ]
    },
    {
     "data": {
      "text/html": [
       "<style type=\"text/css\">\n",
       "#T_73c23_row0_col0, #T_73c23_row0_col1 {\n",
       "  background-color: #800026;\n",
       "  color: #f1f1f1;\n",
       "}\n",
       "#T_73c23_row0_col2 {\n",
       "  background-color: #ffffd9;\n",
       "  color: #000000;\n",
       "}\n",
       "#T_73c23_row1_col0 {\n",
       "  background-color: #ffefa5;\n",
       "  color: #000000;\n",
       "}\n",
       "#T_73c23_row1_col1 {\n",
       "  background-color: #fec863;\n",
       "  color: #000000;\n",
       "}\n",
       "#T_73c23_row1_col2 {\n",
       "  background-color: #2356a4;\n",
       "  color: #f1f1f1;\n",
       "}\n",
       "#T_73c23_row2_col0 {\n",
       "  background-color: #fff7b9;\n",
       "  color: #000000;\n",
       "}\n",
       "#T_73c23_row2_col1 {\n",
       "  background-color: #ffec9f;\n",
       "  color: #000000;\n",
       "}\n",
       "#T_73c23_row2_col2 {\n",
       "  background-color: #1d2e83;\n",
       "  color: #f1f1f1;\n",
       "}\n",
       "#T_73c23_row3_col0, #T_73c23_row3_col1 {\n",
       "  background-color: #ffffcc;\n",
       "  color: #000000;\n",
       "}\n",
       "#T_73c23_row3_col2 {\n",
       "  background-color: #081d58;\n",
       "  color: #f1f1f1;\n",
       "}\n",
       "#T_73c23_row4_col0, #T_73c23_row4_col1, #T_73c23_row4_col2 {\n",
       "  background-color: #000000;\n",
       "  color: #f1f1f1;\n",
       "}\n",
       "</style>\n",
       "<table id=\"T_73c23\">\n",
       "  <caption>Résultats Comparatifs des Modèles</caption>\n",
       "  <thead>\n",
       "    <tr>\n",
       "      <th class=\"blank level0\" >&nbsp;</th>\n",
       "      <th id=\"T_73c23_level0_col0\" class=\"col_heading level0 col0\" >MAE</th>\n",
       "      <th id=\"T_73c23_level0_col1\" class=\"col_heading level0 col1\" >RMSE</th>\n",
       "      <th id=\"T_73c23_level0_col2\" class=\"col_heading level0 col2\" >R2</th>\n",
       "      <th id=\"T_73c23_level0_col3\" class=\"col_heading level0 col3\" >Model</th>\n",
       "    </tr>\n",
       "  </thead>\n",
       "  <tbody>\n",
       "    <tr>\n",
       "      <th id=\"T_73c23_level0_row0\" class=\"row_heading level0 row0\" >Régression Linéaire</th>\n",
       "      <td id=\"T_73c23_row0_col0\" class=\"data row0 col0\" >57947.153194</td>\n",
       "      <td id=\"T_73c23_row0_col1\" class=\"data row0 col1\" >221551.638797</td>\n",
       "      <td id=\"T_73c23_row0_col2\" class=\"data row0 col2\" >0.198391</td>\n",
       "      <td id=\"T_73c23_row0_col3\" class=\"data row0 col3\" >Régression Linéaire</td>\n",
       "    </tr>\n",
       "    <tr>\n",
       "      <th id=\"T_73c23_level0_row1\" class=\"row_heading level0 row1\" >Arbre de Décision</th>\n",
       "      <td id=\"T_73c23_row1_col0\" class=\"data row1 col0\" >25853.671876</td>\n",
       "      <td id=\"T_73c23_row1_col1\" class=\"data row1 col1\" >138621.918994</td>\n",
       "      <td id=\"T_73c23_row1_col2\" class=\"data row1 col2\" >0.686183</td>\n",
       "      <td id=\"T_73c23_row1_col3\" class=\"data row1 col3\" >Arbre de Décision</td>\n",
       "    </tr>\n",
       "    <tr>\n",
       "      <th id=\"T_73c23_level0_row2\" class=\"row_heading level0 row2\" >Forêt Aléatoire</th>\n",
       "      <td id=\"T_73c23_row2_col0\" class=\"data row2 col0\" >23875.599531</td>\n",
       "      <td id=\"T_73c23_row2_col1\" class=\"data row2 col1\" >117794.752022</td>\n",
       "      <td id=\"T_73c23_row2_col2\" class=\"data row2 col2\" >0.773398</td>\n",
       "      <td id=\"T_73c23_row2_col3\" class=\"data row2 col3\" >Forêt Aléatoire</td>\n",
       "    </tr>\n",
       "    <tr>\n",
       "      <th id=\"T_73c23_level0_row3\" class=\"row_heading level0 row3\" >Gradient Boosting</th>\n",
       "      <td id=\"T_73c23_row3_col0\" class=\"data row3 col0\" >21843.129157</td>\n",
       "      <td id=\"T_73c23_row3_col1\" class=\"data row3 col1\" >101961.743085</td>\n",
       "      <td id=\"T_73c23_row3_col2\" class=\"data row3 col2\" >0.830220</td>\n",
       "      <td id=\"T_73c23_row3_col3\" class=\"data row3 col3\" >Gradient Boosting</td>\n",
       "    </tr>\n",
       "    <tr>\n",
       "      <th id=\"T_73c23_level0_row4\" class=\"row_heading level0 row4\" >Réseau de Neurones</th>\n",
       "      <td id=\"T_73c23_row4_col0\" class=\"data row4 col0\" >None</td>\n",
       "      <td id=\"T_73c23_row4_col1\" class=\"data row4 col1\" >None</td>\n",
       "      <td id=\"T_73c23_row4_col2\" class=\"data row4 col2\" >None</td>\n",
       "      <td id=\"T_73c23_row4_col3\" class=\"data row4 col3\" >Réseau de Neurones</td>\n",
       "    </tr>\n",
       "  </tbody>\n",
       "</table>\n"
      ],
      "text/plain": [
       "<pandas.io.formats.style.Styler at 0x1415e926930>"
      ]
     },
     "metadata": {},
     "output_type": "display_data"
    },
    {
     "data": {
      "image/png": "[encoded data removed]",
      "text/plain": [
       "<Figure size 1200x600 with 1 Axes>"
      ]
     },
     "metadata": {},
     "output_type": "display_data"
    }
   ],
   "source": [
    "# Création d'un DataFrame pour comparer les modèles\n",
    "results_df = pd.DataFrame(results).T\n",
    "results_df['Model'] = results_df.index\n",
    "\n",
    "# Affichage stylisé\n",
    "print(\"\\n🔎 Comparaison des Performances des Modèles:\")\n",
    "display(results_df.style.background_gradient(cmap='YlOrRd', subset=['MAE', 'RMSE'])\\\n",
    "       .background_gradient(cmap='YlGnBu', subset=['R2'])\\\n",
    "       .set_caption(\"Résultats Comparatifs des Modèles\"))\n",
    "\n",
    "# Visualisation des métriques\n",
    "plt.figure(figsize=(12, 6))\n",
    "sns.barplot(x='Model', y='R2', data=results_df, palette='viridis')\n",
    "plt.title('Comparaison du Score R² entre les Modèles', fontsize=16)\n",
    "plt.xticks(rotation=45)\n",
    "plt.ylim(0, 1)\n",
    "plt.show()"
   ]
  },
  {
   "cell_type": "markdown",
   "id": "3c07e92c",
   "metadata": {},
   "source": [
    "\"\"\"\n",
    "<a id=\"8\"></a>\n",
    "## 🚀 8. Déploiement\n",
    "\n",
    "<div style=\"background-color:#e0f7fa; padding:15px; border-radius:10px;\">\n",
    "<strong>🌐 Application :</strong> API FastAPI + Interface Streamlit\n",
    "</div>"
   ]
  },
  {
   "cell_type": "code",
   "execution_count": 53,
   "id": "aaffc99a",
   "metadata": {},
   "outputs": [
    {
     "name": "stdout",
     "output_type": "stream",
     "text": [
      "✅ Modèle sauvegardé avec succès!\n"
     ]
    }
   ],
   "source": [
    "# Sélection du meilleur modèle (Gradient Boosting dans notre cas)\n",
    "best_model = GradientBoostingRegressor(random_state=42)\n",
    "best_pipeline = Pipeline([\n",
    "    ('preprocessor', preprocessor),\n",
    "    ('model', best_model)\n",
    "])\n",
    "\n",
    "# Entraînement final sur toutes les données\n",
    "best_pipeline.fit(X, y)\n",
    "\n",
    "# Sauvegarde\n",
    "joblib.dump(best_pipeline, 'modele_revenu_marocains.pkl')\n",
    "print(\"✅ Modèle sauvegardé avec succès!\")"
   ]
  },
  {
   "cell_type": "code",
   "execution_count": 62,
   "id": "15a188cd",
   "metadata": {},
   "outputs": [],
   "source": [
    "# %%writefile api.py\n",
    "from fastapi import FastAPI\n",
    "from pydantic import BaseModel\n",
    "import joblib\n",
    "import pandas as pd\n",
    "\n",
    "app = FastAPI()\n",
    "\n",
    "# Chargement du modèle\n",
    "model = joblib.load('modele_revenu_marocains.pkl')\n",
    "\n",
    "class InputData(BaseModel):\n",
    "    age: float\n",
    "    annees_experience: float\n",
    "    niveau_education: str\n",
    "    categorie_sociopro: str\n",
    "    possession_score: float\n",
    "    milieu: str\n",
    "\n",
    "@app.post(\"/predict\")\n",
    "def predict(data: InputData):\n",
    "    input_df = pd.DataFrame([dict(data)])\n",
    "    prediction = model.predict(input_df)\n",
    "    return {\"revenu_annuel_pred\": round(float(prediction[0]), 2)}\n",
    "\n",
    "# Pour exécuter : uvicorn api:app --reload"
   ]
  },
  {
   "cell_type": "code",
   "execution_count": 59,
   "id": "5fd5ce0d",
   "metadata": {},
   "outputs": [
    {
     "name": "stderr",
     "output_type": "stream",
     "text": [
      "2025-05-06 02:15:23.324 Thread 'MainThread': missing ScriptRunContext! This warning can be ignored when running in bare mode.\n",
      "2025-05-06 02:15:23.327 Thread 'MainThread': missing ScriptRunContext! This warning can be ignored when running in bare mode.\n",
      "2025-05-06 02:15:23.329 Thread 'MainThread': missing ScriptRunContext! This warning can be ignored when running in bare mode.\n",
      "2025-05-06 02:15:23.331 Thread 'MainThread': missing ScriptRunContext! This warning can be ignored when running in bare mode.\n",
      "2025-05-06 02:15:23.333 Thread 'MainThread': missing ScriptRunContext! This warning can be ignored when running in bare mode.\n",
      "2025-05-06 02:15:23.334 Thread 'MainThread': missing ScriptRunContext! This warning can be ignored when running in bare mode.\n",
      "2025-05-06 02:15:23.334 Thread 'MainThread': missing ScriptRunContext! This warning can be ignored when running in bare mode.\n",
      "2025-05-06 02:15:23.334 Thread 'MainThread': missing ScriptRunContext! This warning can be ignored when running in bare mode.\n",
      "2025-05-06 02:15:23.339 Thread 'MainThread': missing ScriptRunContext! This warning can be ignored when running in bare mode.\n",
      "2025-05-06 02:15:23.341 Thread 'MainThread': missing ScriptRunContext! This warning can be ignored when running in bare mode.\n",
      "2025-05-06 02:15:23.343 Thread 'MainThread': missing ScriptRunContext! This warning can be ignored when running in bare mode.\n",
      "2025-05-06 02:15:23.344 Thread 'MainThread': missing ScriptRunContext! This warning can be ignored when running in bare mode.\n",
      "2025-05-06 02:15:23.345 Thread 'MainThread': missing ScriptRunContext! This warning can be ignored when running in bare mode.\n",
      "2025-05-06 02:15:23.347 Thread 'MainThread': missing ScriptRunContext! This warning can be ignored when running in bare mode.\n",
      "2025-05-06 02:15:23.348 Thread 'MainThread': missing ScriptRunContext! This warning can be ignored when running in bare mode.\n",
      "2025-05-06 02:15:23.350 Thread 'MainThread': missing ScriptRunContext! This warning can be ignored when running in bare mode.\n",
      "2025-05-06 02:15:23.352 Thread 'MainThread': missing ScriptRunContext! This warning can be ignored when running in bare mode.\n",
      "2025-05-06 02:15:23.353 Thread 'MainThread': missing ScriptRunContext! This warning can be ignored when running in bare mode.\n",
      "2025-05-06 02:15:23.356 Thread 'MainThread': missing ScriptRunContext! This warning can be ignored when running in bare mode.\n",
      "2025-05-06 02:15:23.358 Thread 'MainThread': missing ScriptRunContext! This warning can be ignored when running in bare mode.\n",
      "2025-05-06 02:15:23.359 Thread 'MainThread': missing ScriptRunContext! This warning can be ignored when running in bare mode.\n",
      "2025-05-06 02:15:23.363 Thread 'MainThread': missing ScriptRunContext! This warning can be ignored when running in bare mode.\n",
      "2025-05-06 02:15:23.363 Thread 'MainThread': missing ScriptRunContext! This warning can be ignored when running in bare mode.\n",
      "2025-05-06 02:15:23.363 Thread 'MainThread': missing ScriptRunContext! This warning can be ignored when running in bare mode.\n",
      "2025-05-06 02:15:23.363 Thread 'MainThread': missing ScriptRunContext! This warning can be ignored when running in bare mode.\n",
      "2025-05-06 02:15:23.363 Thread 'MainThread': missing ScriptRunContext! This warning can be ignored when running in bare mode.\n",
      "2025-05-06 02:15:23.363 Thread 'MainThread': missing ScriptRunContext! This warning can be ignored when running in bare mode.\n",
      "2025-05-06 02:15:23.376 Thread 'MainThread': missing ScriptRunContext! This warning can be ignored when running in bare mode.\n",
      "2025-05-06 02:15:23.377 Thread 'MainThread': missing ScriptRunContext! This warning can be ignored when running in bare mode.\n",
      "2025-05-06 02:15:23.378 Thread 'MainThread': missing ScriptRunContext! This warning can be ignored when running in bare mode.\n",
      "2025-05-06 02:15:23.379 Thread 'MainThread': missing ScriptRunContext! This warning can be ignored when running in bare mode.\n",
      "2025-05-06 02:15:23.380 Thread 'MainThread': missing ScriptRunContext! This warning can be ignored when running in bare mode.\n",
      "2025-05-06 02:15:23.381 Thread 'MainThread': missing ScriptRunContext! This warning can be ignored when running in bare mode.\n",
      "2025-05-06 02:15:23.383 Thread 'MainThread': missing ScriptRunContext! This warning can be ignored when running in bare mode.\n",
      "2025-05-06 02:15:23.383 Thread 'MainThread': missing ScriptRunContext! This warning can be ignored when running in bare mode.\n",
      "2025-05-06 02:15:23.383 Thread 'MainThread': missing ScriptRunContext! This warning can be ignored when running in bare mode.\n",
      "2025-05-06 02:15:23.383 Thread 'MainThread': missing ScriptRunContext! This warning can be ignored when running in bare mode.\n",
      "2025-05-06 02:15:23.383 Thread 'MainThread': missing ScriptRunContext! This warning can be ignored when running in bare mode.\n",
      "2025-05-06 02:15:23.383 Thread 'MainThread': missing ScriptRunContext! This warning can be ignored when running in bare mode.\n",
      "2025-05-06 02:15:23.383 Thread 'MainThread': missing ScriptRunContext! This warning can be ignored when running in bare mode.\n",
      "2025-05-06 02:15:23.391 Thread 'MainThread': missing ScriptRunContext! This warning can be ignored when running in bare mode.\n",
      "2025-05-06 02:15:23.392 Thread 'MainThread': missing ScriptRunContext! This warning can be ignored when running in bare mode.\n",
      "2025-05-06 02:15:23.393 Thread 'MainThread': missing ScriptRunContext! This warning can be ignored when running in bare mode.\n",
      "2025-05-06 02:15:23.395 Thread 'MainThread': missing ScriptRunContext! This warning can be ignored when running in bare mode.\n",
      "2025-05-06 02:15:23.395 Thread 'MainThread': missing ScriptRunContext! This warning can be ignored when running in bare mode.\n",
      "2025-05-06 02:15:23.395 Thread 'MainThread': missing ScriptRunContext! This warning can be ignored when running in bare mode.\n",
      "2025-05-06 02:15:23.395 Thread 'MainThread': missing ScriptRunContext! This warning can be ignored when running in bare mode.\n"
     ]
    }
   ],
   "source": [
    "# %%writefile app_streamlit.py\n",
    "import streamlit as st\n",
    "import joblib\n",
    "import pandas as pd\n",
    "\n",
    "# Configuration de la page\n",
    "st.set_page_config(page_title=\"Prédiction de Revenu\", layout=\"wide\")\n",
    "st.title(\"📊 Prédiction du Revenu Annuel des Marocains\")\n",
    "\n",
    "# Chargement du modèle\n",
    "@st.cache_resource\n",
    "def load_model():\n",
    "    return joblib.load('modele_revenu_marocains.pkl')\n",
    "\n",
    "model = load_model()\n",
    "\n",
    "# Interface utilisateur\n",
    "with st.form(\"prediction_form\"):\n",
    "    col1, col2 = st.columns(2)\n",
    "    \n",
    "    with col1:\n",
    "        age = st.number_input(\"Âge\", min_value=18, max_value=80, value=30)\n",
    "        annees_experience = st.number_input(\"Années d'expérience\", min_value=0, max_value=50, value=5)\n",
    "        possession_voiture = st.checkbox(\"Possède une voiture\")\n",
    "        \n",
    "    with col2:\n",
    "        niveau_education = st.selectbox(\"Niveau d'éducation\", options=[\n",
    "            \"sans_niveau\", \"fondamental\", \"secondaire\", \"superieur\"])\n",
    "        milieu = st.selectbox(\"Milieu\", options=[\"urbain\", \"rural\"])\n",
    "        possession_logement = st.checkbox(\"Possède un logement\")\n",
    "    \n",
    "    # Calcul automatique du score de possession\n",
    "    possession_score = possession_voiture*1 + possession_logement*2\n",
    "    \n",
    "    submitted = st.form_submit_button(\"Prédire le Revenu\")\n",
    "    \n",
    "    if submitted:\n",
    "        input_data = pd.DataFrame({\n",
    "            'age': [age],\n",
    "            'annees_experience': [annees_experience],\n",
    "            'niveau_education': [niveau_education],\n",
    "            'categorie_sociopro': [\"groupe_3\"],  # Valeur par défaut\n",
    "            'possession_score': [possession_score],\n",
    "            'milieu': [milieu]\n",
    "        })\n",
    "        \n",
    "        prediction = model.predict(input_data)\n",
    "        st.success(f\"### Revenu annuel prédit : {prediction[0]:,.2f} DH\")\n",
    "        st.balloons()\n",
    "\n",
    "# Pour exécuter : streamlit run app_streamlit.py"
   ]
  },
  {
   "cell_type": "markdown",
   "id": "f5c4d8e0",
   "metadata": {},
   "source": [
    "<a id=\"9\"></a>\n",
    "\n",
    "✅ 9. Conclusion\n",
    "<div style=\"background-color:#e8f5e9; padding:15px; border-radius:10px; border-left:5px solid #2e7d32;\"> <strong>📌 Synthèse :</strong> Résultats clés et pistes d'amélioration </div>"
   ]
  },
  {
   "cell_type": "code",
   "execution_count": 60,
   "id": "2e06cbe5",
   "metadata": {},
   "outputs": [
    {
     "data": {
      "image/png": "[encoded data removed]",
      "text/plain": [
       "<Figure size 1000x600 with 1 Axes>"
      ]
     },
     "metadata": {},
     "output_type": "display_data"
    }
   ],
   "source": [
    "# Affichage des caractéristiques importantes pour le meilleur modèle\n",
    "if hasattr(best_model, 'feature_importances_'):\n",
    "    feature_names = numeric_features + list(preprocessor.named_transformers_['cat']\\\n",
    "                                          .named_steps['encoder']\\\n",
    "                                          .get_feature_names_out(categorical_features))\n",
    "    \n",
    "    importance_df = pd.DataFrame({\n",
    "        'Feature': feature_names,\n",
    "        'Importance': best_model.feature_importances_\n",
    "    }).sort_values('Importance', ascending=False)\n",
    "    \n",
    "    plt.figure(figsize=(10, 6))\n",
    "    sns.barplot(x='Importance', y='Feature', data=importance_df.head(10), palette='rocket')\n",
    "    plt.title('Top 10 des Features les Plus Importantes', fontsize=16)\n",
    "    plt.show()"
   ]
  },
  {
   "cell_type": "code",
   "execution_count": 61,
   "id": "3aa2fee4",
   "metadata": {},
   "outputs": [
    {
     "name": "stdout",
     "output_type": "stream",
     "text": [
      "\n",
      "🎉 Test de prédiction réussi! Revenu prédit: 194,367.55 DH\n",
      "✅ Toutes les étapes sont fonctionnelles!\n"
     ]
    }
   ],
   "source": [
    "# Vérification que tout s'exécute sans erreur\n",
    "try:\n",
    "    # Test de prédiction\n",
    "    test_data = X.iloc[:1].copy()\n",
    "    pred = best_pipeline.predict(test_data)\n",
    "    print(f\"\\n🎉 Test de prédiction réussi! Revenu prédit: {pred[0]:,.2f} DH\")\n",
    "    print(\"✅ Toutes les étapes sont fonctionnelles!\")\n",
    "except Exception as e:\n",
    "    print(f\"\\n❌ Erreur lors de la validation: {str(e)}\")"
   ]
  }
 ],
 "metadata": {
  "kernelspec": {
   "display_name": "venv",
   "language": "python",
   "name": "python3"
  },
  "language_info": {
   "codemirror_mode": {
    "name": "ipython",
    "version": 3
   },
   "file_extension": ".py",
   "mimetype": "text/x-python",
   "name": "python",
   "nbconvert_exporter": "python",
   "pygments_lexer": "ipython3",
   "version": "3.12.0"
  }
 },
 "nbformat": 4,
 "nbformat_minor": 5
}
